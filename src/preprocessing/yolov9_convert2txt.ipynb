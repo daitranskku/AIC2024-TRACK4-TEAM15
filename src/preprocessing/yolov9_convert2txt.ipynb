{
 "cells": [
  {
   "cell_type": "markdown",
   "id": "1e28e4e239b7f8f4",
   "metadata": {
    "collapsed": false,
    "jupyter": {
     "outputs_hidden": false
    }
   },
   "source": "# Make txt for YOLOv9"
  },
  {
   "cell_type": "code",
   "id": "bcd0c46c6c22a165",
   "metadata": {
    "collapsed": false,
    "jupyter": {
     "outputs_hidden": false
    },
    "ExecuteTime": {
     "end_time": "2024-05-29T06:40:39.631363Z",
     "start_time": "2024-05-29T06:40:39.601490Z"
    }
   },
   "source": [
    "import numpy as np\n",
    "import json"
   ],
   "outputs": [],
   "execution_count": 1
  },
  {
   "cell_type": "code",
   "id": "7d296b77eaa2b404",
   "metadata": {
    "collapsed": false,
    "jupyter": {
     "outputs_hidden": false
    },
    "ExecuteTime": {
     "end_time": "2024-05-29T06:40:39.959315Z",
     "start_time": "2024-05-29T06:40:39.954528Z"
    }
   },
   "source": [
    "train_org_json_path = './json_yolo/jan_train_fisheye_8k_mmyolo.json'\n",
    "test_org_json_path = './json_yolo/jan_test_fisheye_8k_mmyolo.json'"
   ],
   "outputs": [],
   "execution_count": 2
  },
  {
   "cell_type": "code",
   "id": "3e19bd6c95953d5b",
   "metadata": {
    "collapsed": false,
    "jupyter": {
     "outputs_hidden": false
    },
    "ExecuteTime": {
     "end_time": "2024-05-29T06:40:40.617230Z",
     "start_time": "2024-05-29T06:40:40.247898Z"
    }
   },
   "source": [
    "train_json = json.load(open(train_org_json_path))\n",
    "test_json = json.load(open(test_org_json_path))"
   ],
   "outputs": [],
   "execution_count": 3
  },
  {
   "cell_type": "code",
   "id": "65ba037df8ab9fe1",
   "metadata": {
    "collapsed": false,
    "jupyter": {
     "outputs_hidden": false
    },
    "ExecuteTime": {
     "end_time": "2024-05-29T06:40:40.621243Z",
     "start_time": "2024-05-29T06:40:40.618500Z"
    }
   },
   "source": [
    "txt_path = 'train_all.txt'\n",
    "# read txt into txt_data\n",
    "txt_data = []\n",
    "with open(txt_path, 'r') as f:\n",
    "    for line in f:\n",
    "        line = line.strip()\n",
    "        txt_data.append(line)"
   ],
   "outputs": [],
   "execution_count": 4
  },
  {
   "cell_type": "code",
   "id": "88333b0c6b4c1a1e",
   "metadata": {
    "collapsed": false,
    "jupyter": {
     "outputs_hidden": false
    },
    "ExecuteTime": {
     "end_time": "2024-05-29T06:40:44.056514Z",
     "start_time": "2024-05-29T06:40:42.705114Z"
    }
   },
   "source": [
    "# make train_txt_org.txt\n",
    "from tqdm import tqdm\n",
    "save_txt = []\n",
    "for image_info in tqdm(train_json['images']):\n",
    "    extracted_name = image_info['file_name'].split('/')[-1]\n",
    "    for txt_name in txt_data:\n",
    "        if extracted_name in txt_name:\n",
    "            # print(txt_name)\n",
    "            save_txt.append(txt_name)\n",
    "    # break"
   ],
   "outputs": [
    {
     "name": "stderr",
     "output_type": "stream",
     "text": [
      "100%|██████████| 5288/5288 [00:01<00:00, 3949.02it/s]\n"
     ]
    }
   ],
   "execution_count": 5
  },
  {
   "cell_type": "code",
   "id": "124bb9862e57f7c7",
   "metadata": {
    "collapsed": false,
    "jupyter": {
     "outputs_hidden": false
    },
    "ExecuteTime": {
     "end_time": "2024-05-29T06:40:44.059957Z",
     "start_time": "2024-05-29T06:40:44.057158Z"
    }
   },
   "source": [
    "len(save_txt)"
   ],
   "outputs": [
    {
     "data": {
      "text/plain": [
       "5288"
      ]
     },
     "execution_count": 6,
     "metadata": {},
     "output_type": "execute_result"
    }
   ],
   "execution_count": 6
  },
  {
   "cell_type": "code",
   "id": "4c7889467ab594a8",
   "metadata": {
    "collapsed": false,
    "jupyter": {
     "outputs_hidden": false
    },
    "ExecuteTime": {
     "end_time": "2024-05-29T06:40:45.760007Z",
     "start_time": "2024-05-29T06:40:45.752735Z"
    }
   },
   "source": [
    "# save to txt\n",
    "with open('train_txt_org.txt', 'w') as f:\n",
    "    for item in save_txt:\n",
    "        f.write(\"%s\\n\" % item)"
   ],
   "outputs": [],
   "execution_count": 7
  },
  {
   "cell_type": "code",
   "id": "b2859206bdcb2fff",
   "metadata": {
    "collapsed": false,
    "jupyter": {
     "outputs_hidden": false
    },
    "ExecuteTime": {
     "end_time": "2024-05-29T06:40:46.770030Z",
     "start_time": "2024-05-29T06:40:46.069552Z"
    }
   },
   "source": [
    "# make test_txt_org.txt\n",
    "from tqdm import tqdm\n",
    "save_txt = []\n",
    "for image_info in tqdm(test_json['images']):\n",
    "    extracted_name = image_info['file_name'].split('/')[-1]\n",
    "    for txt_name in txt_data:\n",
    "        if extracted_name in txt_name:\n",
    "            # print(txt_name)\n",
    "            save_txt.append(txt_name)\n",
    "    # break"
   ],
   "outputs": [
    {
     "name": "stderr",
     "output_type": "stream",
     "text": [
      "100%|██████████| 2712/2712 [00:00<00:00, 3911.35it/s]\n"
     ]
    }
   ],
   "execution_count": 8
  },
  {
   "cell_type": "code",
   "id": "ccb508bc5856a25",
   "metadata": {
    "collapsed": false,
    "jupyter": {
     "outputs_hidden": false
    },
    "ExecuteTime": {
     "end_time": "2024-05-29T06:40:47.699153Z",
     "start_time": "2024-05-29T06:40:47.693504Z"
    }
   },
   "source": [
    "# save to txt\n",
    "with open('test_txt_org.txt', 'w') as f:\n",
    "    for item in save_txt:\n",
    "        f.write(\"%s\\n\" % item)"
   ],
   "outputs": [],
   "execution_count": 9
  },
  {
   "cell_type": "code",
   "execution_count": null,
   "id": "initial_id",
   "metadata": {},
   "outputs": [],
   "source": []
  }
 ],
 "metadata": {
  "kernelspec": {
   "display_name": "mmyolo",
   "language": "python",
   "name": "mmyolo"
  },
  "language_info": {
   "codemirror_mode": {
    "name": "ipython",
    "version": 3
   },
   "file_extension": ".py",
   "mimetype": "text/x-python",
   "name": "python",
   "nbconvert_exporter": "python",
   "pygments_lexer": "ipython3",
   "version": "3.8.0"
  }
 },
 "nbformat": 4,
 "nbformat_minor": 5
}
